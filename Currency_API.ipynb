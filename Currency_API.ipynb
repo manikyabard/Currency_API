{
 "cells": [
  {
   "cell_type": "markdown",
   "metadata": {},
   "source": [
    "# Currency API"
   ]
  },
  {
   "cell_type": "markdown",
   "metadata": {},
   "source": [
    "## API sources:\n",
    "### https://fixer.io/dashboard\n",
    "### https://rapidapi.com/"
   ]
  },
  {
   "cell_type": "code",
   "execution_count": null,
   "metadata": {
    "scrolled": true
   },
   "outputs": [],
   "source": [
    "import requests\n",
    "import json\n",
    "\n",
    "key1 = \"df85b750ac5ad7afa0e0e4564a56aac7\"\n",
    "#replace key1 to your own access key.\n",
    "url = \"http://data.fixer.io/api/latest?access_key=\"+key1+\"&symbols=USD,GBP,ETH\"\n",
    "\n",
    "#request.get() is used to get data from the API call\n",
    "response = requests.get(url)\n",
    "\n",
    "data = response.text\n",
    "#getting the data in json format for easily manipulating it as we will see later\n",
    "parsed = json.loads(data)\n",
    "parsed"
   ]
  },
  {
   "cell_type": "code",
   "execution_count": null,
   "metadata": {},
   "outputs": [],
   "source": [
    "# this code snippet is used to check if the connecion is successful or not\n",
    "import requests\n",
    "import json\n",
    "\n",
    "#key2=input(\"Enter your access key\")\n",
    "key2=\"df85b750ac5ad7afa0e0e4564a56aac7\"\n",
    "try:\n",
    "    url = \"http://data.fixer.io/api/latest?access_key=\"+key2\n",
    "    response = requests.get(url)\n",
    "    data = response.text\n",
    "    parsed = json.loads(data)\n",
    "    if (parsed['success']==False):\n",
    "        raise Exception\n",
    "    \n",
    "except Exception:\n",
    "    print(\"invalid access key, please try again!\")\n"
   ]
  },
  {
   "cell_type": "code",
   "execution_count": null,
   "metadata": {},
   "outputs": [],
   "source": [
    "# this function convert 'base' currency to 'target' currency\n",
    "def convs(base,target):\n",
    "    url=\"http://data.fixer.io/api/latest?access_key=\"+key+\"&base=\"+base+\"&symbols=\"+target\n",
    "    response = requests.get(url)\n",
    "    data = response.text\n",
    "    parsed = json.loads(data)\n",
    "#    print(parsed)\n",
    "    print(\"For\",base,\"on\",parsed['date'],',',target,\"is\",parsed['rates'][target])\n",
    "\n",
    "convs('EUR',\"INR\")"
   ]
  },
  {
   "cell_type": "code",
   "execution_count": null,
   "metadata": {
    "scrolled": true
   },
   "outputs": [],
   "source": [
    "''' this function takes a currency symbol returns a list of corresponding symbols and values\n",
    "for all currencies'''\n",
    "def listconv(base):\n",
    "    try:\n",
    "        url=\"http://data.fixer.io/api/latest?access_key=\"+key+\"&base=\"+base\n",
    "        response = requests.get(url)\n",
    "        data = response.text\n",
    "        parsed = json.loads(data)\n",
    "        for sym,val in parsed['rates'].items():\n",
    "            print(sym,val)\n",
    "    except Exception as e:\n",
    "        print('Something went wrong. Please check your access key and its permissions\\n',e)\n",
    "\n",
    "listconv('EUR')"
   ]
  },
  {
   "cell_type": "code",
   "execution_count": null,
   "metadata": {},
   "outputs": [],
   "source": [
    "#this function converts base currency to a currency of any Country specified\n",
    "def conv_country(base,country):\n",
    "    try:\n",
    "        response = requests.get(\"https://ajayakv-rest-countries-v1.p.rapidapi.com/rest/v1/all\",\n",
    "          headers={\n",
    "            \"X-RapidAPI-Key\": \"a9ece4a728msh95950ae37a9db90p13101ejsnd7740b56cb95\"\n",
    "          }\n",
    "        )\n",
    "        data = response.text\n",
    "        parsed = json.loads(data)\n",
    "        for x in parsed:\n",
    "            if x['name']==country:\n",
    "                sym=x['currencies']\n",
    "        convs(base,sym[0])\n",
    "    except Exception as e:\n",
    "        print('Something went wrong. Please check your access key and its permissions\\n',e)\n",
    "country = input(\"enter country: \")\n",
    "conv_country('EUR',country)"
   ]
  }
 ],
 "metadata": {
  "celltoolbar": "Raw Cell Format",
  "kernelspec": {
   "display_name": "Python 3",
   "language": "python",
   "name": "python3"
  },
  "language_info": {
   "codemirror_mode": {
    "name": "ipython",
    "version": 3
   },
   "file_extension": ".py",
   "mimetype": "text/x-python",
   "name": "python",
   "nbconvert_exporter": "python",
   "pygments_lexer": "ipython3",
   "version": "3.7.1"
  }
 },
 "nbformat": 4,
 "nbformat_minor": 2
}
